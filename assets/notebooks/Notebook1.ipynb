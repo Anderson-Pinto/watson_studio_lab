{
 "cells": [
  {
   "cell_type": "code",
   "execution_count": 1,
   "id": "e0edaec0-4a63-4070-b1f3-bee3e8435087",
   "metadata": {
    "id": "74a8c3ad-c787-4748-9ef4-58a18cbd6bfb",
    "tags": []
   },
   "outputs": [
    {
     "name": "stdout",
     "output_type": "stream",
     "text": [
      "Hello World!!!\n"
     ]
    }
   ],
   "source": [
    "print(\"Hello World!!!\")"
   ]
  },
  {
   "cell_type": "code",
   "execution_count": null,
   "id": "69d18df7-8309-4f03-82a9-aef93fa8a1d3",
   "metadata": {
    "id": "69d18df7-8309-4f03-82a9-aef93fa8a1d3"
   },
   "outputs": [],
   "source": []
  }
 ],
 "metadata": {
  "kernelspec": {
   "display_name": "Python 3.9",
   "language": "python",
   "name": "python3"
  },
  "language_info": {
   "codemirror_mode": {
    "name": "ipython",
    "version": 3
   },
   "file_extension": ".py",
   "mimetype": "text/x-python",
   "name": "python",
   "nbconvert_exporter": "python",
   "pygments_lexer": "ipython3",
   "version": "3.9.7"
  }
 },
 "nbformat": 4,
 "nbformat_minor": 5
}
